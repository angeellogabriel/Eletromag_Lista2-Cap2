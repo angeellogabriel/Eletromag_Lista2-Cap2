{
  "nbformat": 4,
  "nbformat_minor": 0,
  "metadata": {
    "colab": {
      "provenance": [],
      "authorship_tag": "ABX9TyNNG/zaL10N7oXIMYOIkOyY",
      "include_colab_link": true
    },
    "kernelspec": {
      "name": "python3",
      "display_name": "Python 3"
    },
    "language_info": {
      "name": "python"
    }
  },
  "cells": [
    {
      "cell_type": "markdown",
      "metadata": {
        "id": "view-in-github",
        "colab_type": "text"
      },
      "source": [
        "<a href=\"https://colab.research.google.com/github/angeellogabriel/Eletromag_Lista2-Cap2/blob/main/Eletromag_Lista2_Cap2.ipynb\" target=\"_parent\"><img src=\"https://colab.research.google.com/assets/colab-badge.svg\" alt=\"Open In Colab\"/></a>"
      ]
    },
    {
      "cell_type": "code",
      "execution_count": 399,
      "metadata": {
        "colab": {
          "base_uri": "https://localhost:8080/",
          "height": 37
        },
        "id": "wPyTsHQ1Kctj",
        "outputId": "d0f290c7-c4bf-49de-9c7c-8f489c12953a"
      },
      "outputs": [
        {
          "output_type": "execute_result",
          "data": {
            "text/plain": [
              "[cos(60), sin(60), 2]"
            ],
            "text/latex": "$\\displaystyle \\left[ \\cos{\\left(60 \\right)}, \\  \\sin{\\left(60 \\right)}, \\  2\\right]$"
          },
          "metadata": {},
          "execution_count": 399
        }
      ],
      "source": [
        "#Problema 2.1\n",
        "\n",
        "#a \n",
        "\n",
        "from sympy import symbols, cos, sin\n",
        "\n",
        "r, theta, z = symbols('r theta z')\n",
        "\n",
        "r = 1\n",
        "theta = 60 \n",
        "z = 2\n",
        "\n",
        "x = r * cos(theta)\n",
        "y = r * sin(theta)\n",
        "\n",
        "p = [x, y, z]\n",
        "p"
      ]
    },
    {
      "cell_type": "code",
      "source": [
        "#b)\n",
        "\n",
        "from sympy import symbols, cos, sin\n",
        "\n",
        "r, theta, z = symbols('r theta z')\n",
        "\n",
        "r = 2\n",
        "theta = 90\n",
        "z = -4\n",
        "\n",
        "x = r * cos(theta)\n",
        "y = r * sin(theta)\n",
        "\n",
        "q = [x, y, z]\n",
        "q"
      ],
      "metadata": {
        "colab": {
          "base_uri": "https://localhost:8080/",
          "height": 37
        },
        "id": "hKgY38IPLynS",
        "outputId": "15e1fb7b-c88e-4523-bf04-c33c8d7d349f"
      },
      "execution_count": 400,
      "outputs": [
        {
          "output_type": "execute_result",
          "data": {
            "text/plain": [
              "[2⋅cos(90), 2⋅sin(90), -4]"
            ],
            "text/latex": "$\\displaystyle \\left[ 2 \\cos{\\left(90 \\right)}, \\  2 \\sin{\\left(90 \\right)}, \\  -4\\right]$"
          },
          "metadata": {},
          "execution_count": 400
        }
      ]
    },
    {
      "cell_type": "code",
      "source": [
        "#c)\n",
        "from sympy import symbols, cos, sin\n",
        "\n",
        "r, theta, phi = symbols('r theta phi')\n",
        "\n",
        "r = 3\n",
        "theta = 45 \n",
        "phi = 210 \n",
        "\n",
        "x = r * cos(theta) * sin(phi)\n",
        "y = r * sin(theta) * sin(phi)\n",
        "z = r * cos(phi)\n",
        "\n",
        "r = [x, y, z]\n",
        "r\n"
      ],
      "metadata": {
        "colab": {
          "base_uri": "https://localhost:8080/",
          "height": 37
        },
        "id": "4plcwOZSL9q6",
        "outputId": "ec519546-e90f-4fde-a6c4-fd0c94fe90b8"
      },
      "execution_count": 401,
      "outputs": [
        {
          "output_type": "execute_result",
          "data": {
            "text/plain": [
              "[3⋅sin(210)⋅cos(45), 3⋅sin(45)⋅sin(210), 3⋅cos(210)]"
            ],
            "text/latex": "$\\displaystyle \\left[ 3 \\sin{\\left(210 \\right)} \\cos{\\left(45 \\right)}, \\  3 \\sin{\\left(45 \\right)} \\sin{\\left(210 \\right)}, \\  3 \\cos{\\left(210 \\right)}\\right]$"
          },
          "metadata": {},
          "execution_count": 401
        }
      ]
    },
    {
      "cell_type": "code",
      "source": [
        "#d \n",
        "from sympy import symbols, cos, sin, pi\n",
        "\n",
        "r, theta, phi = symbols('r theta phi')\n",
        "\n",
        "r = 4\n",
        "theta = pi/2 \n",
        "phi = pi/6 \n",
        "\n",
        "x = r * cos(theta) * sin(phi)\n",
        "y = r * sin(theta) * sin(phi)\n",
        "z = r * cos(phi)\n",
        "\n",
        "t = [x, y, z]\n",
        "t\n"
      ],
      "metadata": {
        "colab": {
          "base_uri": "https://localhost:8080/",
          "height": 47
        },
        "id": "PIeMJarPMiqJ",
        "outputId": "8d73e117-3f49-4661-b209-64be503bb02c"
      },
      "execution_count": 402,
      "outputs": [
        {
          "output_type": "execute_result",
          "data": {
            "text/plain": [
              "[0, 2, 2⋅√3]"
            ],
            "text/latex": "$\\displaystyle \\left[ 0, \\  2, \\  2 \\sqrt{3}\\right]$"
          },
          "metadata": {},
          "execution_count": 402
        }
      ]
    },
    {
      "cell_type": "code",
      "source": [
        "#Problema 2.2\n",
        "#a)\n",
        "from sympy import symbols, cos, sin, atan2, acos, sqrt, pi\n",
        "\n",
        "rho, theta, z = symbols('rho theta z')\n",
        "rho, phi, theta = symbols('rho phi theta')\n",
        "\n",
        "x = 1\n",
        "y = -4\n",
        "z = -3\n",
        "\n",
        "r = sqrt(x**2 + y**2)\n",
        "theta = atan2(y, x)\n",
        "z = z\n",
        "\n",
        "c = [r, theta, z]\n",
        "print(\"Coordenadas cilíndricas:\", c)\n",
        "\n",
        "R = sqrt(x**2 + y**2 + z**2)\n",
        "phi = acos(z / R)\n",
        "theta = atan2(y, x)\n",
        "\n",
        "s = [R, phi, theta]\n",
        "print(\"Coordenadas esféricas:\", s)\n"
      ],
      "metadata": {
        "colab": {
          "base_uri": "https://localhost:8080/"
        },
        "id": "q5AlKlSQMnAh",
        "outputId": "3d74ef28-306a-4b64-b3fe-d273fe239e5c"
      },
      "execution_count": 403,
      "outputs": [
        {
          "output_type": "stream",
          "name": "stdout",
          "text": [
            "Coordenadas cilíndricas: [sqrt(17), -atan(4), -3]\n",
            "Coordenadas esféricas: [sqrt(26), acos(-3*sqrt(26)/26), -atan(4)]\n"
          ]
        }
      ]
    },
    {
      "cell_type": "code",
      "source": [
        "#b)\n",
        "from sympy import symbols, cos, sin, atan2, acos, sqrt, pi\n",
        "\n",
        "rho, theta, z = symbols('rho theta z')\n",
        "rho, phi, theta = symbols('rho phi theta')\n",
        "\n",
        "x = 3\n",
        "y = 0\n",
        "z = 5\n",
        "\n",
        "r = sqrt(x**2 + y**2)\n",
        "theta = atan2(y, x)\n",
        "z = z\n",
        "\n",
        "c = [r, theta, z]\n",
        "print(\"Coordenadas cilíndricas:\", c)\n",
        "\n",
        "R = sqrt(x**2 + y**2 + z**2)\n",
        "phi = acos(z / R)\n",
        "theta = atan2(y, x)\n",
        "\n",
        "s = [R, phi, theta]\n",
        "print(\"Coordenadas esféricas:\", s)"
      ],
      "metadata": {
        "colab": {
          "base_uri": "https://localhost:8080/"
        },
        "id": "LpRMN18zNarS",
        "outputId": "b3a5af11-d3dd-4b90-8489-061311a38292"
      },
      "execution_count": 404,
      "outputs": [
        {
          "output_type": "stream",
          "name": "stdout",
          "text": [
            "Coordenadas cilíndricas: [3, 0, 5]\n",
            "Coordenadas esféricas: [sqrt(34), acos(5*sqrt(34)/34), 0]\n"
          ]
        }
      ]
    },
    {
      "cell_type": "code",
      "source": [
        "#c)\n",
        "from sympy import symbols, cos, sin, atan2, acos, sqrt, pi\n",
        "\n",
        "rho, theta, z = symbols('rho theta z')\n",
        "rho, phi, theta = symbols('rho phi theta')\n",
        "\n",
        "x = -2\n",
        "y = 6\n",
        "z = 0\n",
        "\n",
        "r = sqrt(x**2 + y**2)\n",
        "theta = atan2(y, x)\n",
        "z = z\n",
        "\n",
        "c = [r, theta, z]\n",
        "print(\"Coordenadas cilíndricas:\", c)\n",
        "\n",
        "R = sqrt(x**2 + y**2 + z**2)\n",
        "phi = acos(z / R)\n",
        "theta = atan2(y, x)\n",
        "\n",
        "s = [R, phi, theta]\n",
        "print(\"Coordenadas esféricas:\", s)"
      ],
      "metadata": {
        "colab": {
          "base_uri": "https://localhost:8080/"
        },
        "id": "UPUbBHaKNmkx",
        "outputId": "e45d3505-6872-40a4-9f28-7352f9e984a9"
      },
      "execution_count": 405,
      "outputs": [
        {
          "output_type": "stream",
          "name": "stdout",
          "text": [
            "Coordenadas cilíndricas: [2*sqrt(10), pi - atan(3), 0]\n",
            "Coordenadas esféricas: [2*sqrt(10), pi/2, pi - atan(3)]\n"
          ]
        }
      ]
    },
    {
      "cell_type": "code",
      "source": [
        "#Probema 2.3\n",
        "#a)\n",
        "from sympy import symbols, cos, sin, sqrt, atan2\n",
        "\n",
        "x, y, z, r, theta = symbols('x y z r theta')\n",
        "\n",
        "V = x*z - x*y + y*z\n",
        "\n",
        "r = sqrt(x**2 + y**2)\n",
        "theta = atan2(y, x)\n",
        "\n",
        "V_cil = V.subs(x, r*cos(theta)).subs(y, r*sin(theta))\n",
        "\n",
        "V_cilindrico = V_cil.subs(z, z)\n",
        "V_cilindrico.simplify()\n",
        "\n"
      ],
      "metadata": {
        "colab": {
          "base_uri": "https://localhost:8080/",
          "height": 39
        },
        "id": "lX6M11dLNqG6",
        "outputId": "01ad9c55-ee67-4511-98b4-306ad42fd565"
      },
      "execution_count": 406,
      "outputs": [
        {
          "output_type": "execute_result",
          "data": {
            "text/plain": [
              "-x⋅y + x⋅z + y⋅z"
            ],
            "text/latex": "$\\displaystyle - x y + x z + y z$"
          },
          "metadata": {},
          "execution_count": 406
        }
      ]
    },
    {
      "cell_type": "code",
      "source": [
        "#b)\n",
        "\n",
        "\n",
        "\n",
        "\n"
      ],
      "metadata": {
        "id": "DzFVZYynP51D"
      },
      "execution_count": 407,
      "outputs": []
    },
    {
      "cell_type": "code",
      "source": [
        "import sympy as sp\n",
        "\n",
        "x, y, z, theta, phi, r = sp.symbols('x y z theta phi r')\n",
        "\n",
        "D = sp.Matrix([0, x + z, 0])\n",
        "\n",
        "# para coord cilindricas\n",
        "D_cil = D.subs({x: r*sp.cos(theta), y: r*sp.sin(theta), z: z})\n",
        "\n",
        "D_cil = D_cil.subs({y: r*sp.sin(theta)})\n",
        "\n",
        "D_cil = sp.simplify(D_cil)\n",
        "\n",
        "# agora para ir para coord esfericas\n",
        "D_esf = D.subs({x: r*sp.sin(phi)*sp.cos(theta), y: r*sp.sin(phi)*sp.sin(theta), z: r*sp.cos(phi)})\n",
        "\n",
        "D_esf = D_esf.subs({y: r*sp.sin(phi)*sp.sin(theta)})\n",
        "\n",
        "D_esf = sp.simplify(D_esf)"
      ],
      "metadata": {
        "id": "W9Y10nPiRIrM"
      },
      "execution_count": 408,
      "outputs": []
    },
    {
      "cell_type": "code",
      "source": [
        "D_cil"
      ],
      "metadata": {
        "colab": {
          "base_uri": "https://localhost:8080/",
          "height": 78
        },
        "id": "gVA7quneSxTl",
        "outputId": "b8233715-6c6d-4c8f-b48b-e8d62a9f7d53"
      },
      "execution_count": 409,
      "outputs": [
        {
          "output_type": "execute_result",
          "data": {
            "text/plain": [
              "⎡     0      ⎤\n",
              "⎢            ⎥\n",
              "⎢r⋅cos(θ) + z⎥\n",
              "⎢            ⎥\n",
              "⎣     0      ⎦"
            ],
            "text/latex": "$\\displaystyle \\left[\\begin{matrix}0\\\\r \\cos{\\left(\\theta \\right)} + z\\\\0\\end{matrix}\\right]$"
          },
          "metadata": {},
          "execution_count": 409
        }
      ]
    },
    {
      "cell_type": "code",
      "source": [
        "D_esf"
      ],
      "metadata": {
        "colab": {
          "base_uri": "https://localhost:8080/",
          "height": 78
        },
        "id": "ErxUNhrzSyl3",
        "outputId": "799abc50-9bd2-4c7c-c940-a1f9980402d6"
      },
      "execution_count": 410,
      "outputs": [
        {
          "output_type": "execute_result",
          "data": {
            "text/plain": [
              "⎡            0             ⎤\n",
              "⎢                          ⎥\n",
              "⎢r⋅(sin(φ)⋅cos(θ) + cos(φ))⎥\n",
              "⎢                          ⎥\n",
              "⎣            0             ⎦"
            ],
            "text/latex": "$\\displaystyle \\left[\\begin{matrix}0\\\\r \\left(\\sin{\\left(\\phi \\right)} \\cos{\\left(\\theta \\right)} + \\cos{\\left(\\phi \\right)}\\right)\\\\0\\end{matrix}\\right]$"
          },
          "metadata": {},
          "execution_count": 410
        }
      ]
    },
    {
      "cell_type": "code",
      "source": [
        "#b)\n",
        "import sympy as sp\n",
        "\n",
        "x, y, z, theta, phi, r = sp.symbols('x y z theta phi r')\n",
        "\n",
        "D = sp.Matrix([(y**2-x**2), x*y*z, (x**2-z**2)])\n",
        "\n",
        "# para coord cilindricas\n",
        "D_cil = D.subs({x: r*sp.cos(theta), y: r*sp.sin(theta), z: z})\n",
        "\n",
        "D_cil = D_cil.subs({y: r*sp.sin(theta)})\n",
        "\n",
        "D_cil = sp.simplify(D_cil)\n",
        "\n",
        "# agora para ir para coord esfericas\n",
        "D_esf = D.subs({x: r*sp.sin(phi)*sp.cos(theta), y: r*sp.sin(phi)*sp.sin(theta), z: r*sp.cos(phi)})\n",
        "\n",
        "D_esf = D_esf.subs({y: r*sp.sin(phi)*sp.sin(theta)})\n",
        "\n",
        "D_esf = sp.simplify(D_esf)"
      ],
      "metadata": {
        "id": "rstjg69kSTtm"
      },
      "execution_count": 411,
      "outputs": []
    },
    {
      "cell_type": "code",
      "source": [
        "D_cil"
      ],
      "metadata": {
        "colab": {
          "base_uri": "https://localhost:8080/",
          "height": 83
        },
        "id": "JAiqiaZZSqTM",
        "outputId": "39228e17-8ba3-4374-d177-de3bb2a785f5"
      },
      "execution_count": 412,
      "outputs": [
        {
          "output_type": "execute_result",
          "data": {
            "text/plain": [
              "⎡   2           ⎤\n",
              "⎢ -r ⋅cos(2⋅θ)  ⎥\n",
              "⎢               ⎥\n",
              "⎢  2            ⎥\n",
              "⎢ r ⋅z⋅sin(2⋅θ) ⎥\n",
              "⎢ ───────────── ⎥\n",
              "⎢       2       ⎥\n",
              "⎢               ⎥\n",
              "⎢ 2    2       2⎥\n",
              "⎣r ⋅cos (θ) - z ⎦"
            ],
            "text/latex": "$\\displaystyle \\left[\\begin{matrix}- r^{2} \\cos{\\left(2 \\theta \\right)}\\\\\\frac{r^{2} z \\sin{\\left(2 \\theta \\right)}}{2}\\\\r^{2} \\cos^{2}{\\left(\\theta \\right)} - z^{2}\\end{matrix}\\right]$"
          },
          "metadata": {},
          "execution_count": 412
        }
      ]
    },
    {
      "cell_type": "code",
      "source": [
        "D_esf"
      ],
      "metadata": {
        "colab": {
          "base_uri": "https://localhost:8080/",
          "height": 80
        },
        "id": "Rjx9QbwWSsO-",
        "outputId": "7c73f40e-34ae-404d-bd8c-d0d2ba167a7a"
      },
      "execution_count": 413,
      "outputs": [
        {
          "output_type": "execute_result",
          "data": {
            "text/plain": [
              "⎡       2    2                  ⎤\n",
              "⎢     -r ⋅sin (φ)⋅cos(2⋅θ)      ⎥\n",
              "⎢                               ⎥\n",
              "⎢ 3    2                        ⎥\n",
              "⎢r ⋅sin (φ)⋅sin(θ)⋅cos(φ)⋅cos(θ)⎥\n",
              "⎢                               ⎥\n",
              "⎢ 2 ⎛   2       2         2   ⎞ ⎥\n",
              "⎣r ⋅⎝sin (φ)⋅cos (θ) - cos (φ)⎠ ⎦"
            ],
            "text/latex": "$\\displaystyle \\left[\\begin{matrix}- r^{2} \\sin^{2}{\\left(\\phi \\right)} \\cos{\\left(2 \\theta \\right)}\\\\r^{3} \\sin^{2}{\\left(\\phi \\right)} \\sin{\\left(\\theta \\right)} \\cos{\\left(\\phi \\right)} \\cos{\\left(\\theta \\right)}\\\\r^{2} \\left(\\sin^{2}{\\left(\\phi \\right)} \\cos^{2}{\\left(\\theta \\right)} - \\cos^{2}{\\left(\\phi \\right)}\\right)\\end{matrix}\\right]$"
          },
          "metadata": {},
          "execution_count": 413
        }
      ]
    },
    {
      "cell_type": "code",
      "source": [
        "#Problema 2.5\n",
        "#a)\n",
        "import sympy as sp\n",
        "\n",
        "x, y, z, theta, phi, r = sp.symbols('x y z theta phi r')\n",
        "\n",
        "F = sp.Matrix([x, y, 4*sp.sqrt(x**2 + y**2 + z**2)**-1])\n",
        "\n",
        "F_cil = F.subs({x: r*sp.cos(theta), y: r*sp.sin(theta), z: z})\n",
        "\n",
        "F_cil = F_cil.subs({z: z})\n",
        "\n",
        "F_cil = sp.simplify(F_cil)\n",
        "\n",
        "F_esf = F.subs({x: r*sp.sin(phi)*sp.cos(theta), y: r*sp.sin(phi)*sp.sin(theta), z: r*sp.cos(phi)})\n",
        "\n",
        "F_esf = sp.simplify(F_esf)\n"
      ],
      "metadata": {
        "id": "dzkRPccwS4cd"
      },
      "execution_count": 414,
      "outputs": []
    },
    {
      "cell_type": "code",
      "source": [
        "F_cil"
      ],
      "metadata": {
        "colab": {
          "base_uri": "https://localhost:8080/",
          "height": 81
        },
        "id": "CtCDFM1oTabj",
        "outputId": "2fa2d2b8-0338-4ac6-c61c-770e2e9ba8c8"
      },
      "execution_count": 415,
      "outputs": [
        {
          "output_type": "execute_result",
          "data": {
            "text/plain": [
              "⎡  r⋅cos(θ)  ⎤\n",
              "⎢            ⎥\n",
              "⎢  r⋅sin(θ)  ⎥\n",
              "⎢            ⎥\n",
              "⎢     4      ⎥\n",
              "⎢────────────⎥\n",
              "⎢   _________⎥\n",
              "⎢  ╱  2    2 ⎥\n",
              "⎣╲╱  r  + z  ⎦"
            ],
            "text/latex": "$\\displaystyle \\left[\\begin{matrix}r \\cos{\\left(\\theta \\right)}\\\\r \\sin{\\left(\\theta \\right)}\\\\\\frac{4}{\\sqrt{r^{2} + z^{2}}}\\end{matrix}\\right]$"
          },
          "metadata": {},
          "execution_count": 415
        }
      ]
    },
    {
      "cell_type": "code",
      "source": [
        "F_esf"
      ],
      "metadata": {
        "colab": {
          "base_uri": "https://localhost:8080/",
          "height": 81
        },
        "id": "eCwRAp51Tbkk",
        "outputId": "0fa785c7-c85c-40d9-a628-43bbe495e9cd"
      },
      "execution_count": 416,
      "outputs": [
        {
          "output_type": "execute_result",
          "data": {
            "text/plain": [
              "⎡r⋅sin(φ)⋅cos(θ)⎤\n",
              "⎢               ⎥\n",
              "⎢r⋅sin(φ)⋅sin(θ)⎥\n",
              "⎢               ⎥\n",
              "⎢       4       ⎥\n",
              "⎢    ───────    ⎥\n",
              "⎢       ____    ⎥\n",
              "⎢      ╱  2     ⎥\n",
              "⎣    ╲╱  r      ⎦"
            ],
            "text/latex": "$\\displaystyle \\left[\\begin{matrix}r \\sin{\\left(\\phi \\right)} \\cos{\\left(\\theta \\right)}\\\\r \\sin{\\left(\\phi \\right)} \\sin{\\left(\\theta \\right)}\\\\\\frac{4}{\\sqrt{r^{2}}}\\end{matrix}\\right]$"
          },
          "metadata": {},
          "execution_count": 416
        }
      ]
    },
    {
      "cell_type": "code",
      "source": [
        "#b)\n",
        "import sympy as sp\n",
        "\n",
        "x, y, z, theta, phi, r = sp.symbols('x y z theta phi r')\n",
        "\n",
        "G = (x**2+y**2)*sp.Matrix([x/sp.sqrt(x**2 + y**2 + z**2), y/4*sp.sqrt(x**2 + y**2 + z**2), z/sp.sqrt(x**2 + y**2 + z**2)])\n",
        "\n",
        "G_cil = G.subs({x: r*sp.cos(theta), y: r*sp.sin(theta), z: z})\n",
        "\n",
        "G_cil = G_cil.subs({z: z})\n",
        "\n",
        "G_cil = sp.simplify(G_cil)\n",
        "\n",
        "G_esf = G.subs({x: r*sp.sin(phi)*sp.cos(theta), y: r*sp.sin(phi)*sp.sin(theta), z: r*sp.cos(phi)})\n",
        "\n",
        "G_esf = sp.simplify(G_esf)\n"
      ],
      "metadata": {
        "id": "fWflRvhjU1ep"
      },
      "execution_count": 417,
      "outputs": []
    },
    {
      "cell_type": "code",
      "source": [
        "G_cil"
      ],
      "metadata": {
        "colab": {
          "base_uri": "https://localhost:8080/",
          "height": 98
        },
        "id": "T8Jnl4giVTfl",
        "outputId": "8af056f3-51e0-4d13-cb7a-702b0e9c1ebf"
      },
      "execution_count": 418,
      "outputs": [
        {
          "output_type": "execute_result",
          "data": {
            "text/plain": [
              "⎡       3              ⎤\n",
              "⎢      r ⋅cos(θ)       ⎥\n",
              "⎢     ────────────     ⎥\n",
              "⎢        _________     ⎥\n",
              "⎢       ╱  2    2      ⎥\n",
              "⎢     ╲╱  r  + z       ⎥\n",
              "⎢                      ⎥\n",
              "⎢      _________       ⎥\n",
              "⎢ 3   ╱  2    2        ⎥\n",
              "⎢r ⋅╲╱  r  + z  ⋅sin(θ)⎥\n",
              "⎢──────────────────────⎥\n",
              "⎢          4           ⎥\n",
              "⎢                      ⎥\n",
              "⎢          2           ⎥\n",
              "⎢         r ⋅z         ⎥\n",
              "⎢     ────────────     ⎥\n",
              "⎢        _________     ⎥\n",
              "⎢       ╱  2    2      ⎥\n",
              "⎣     ╲╱  r  + z       ⎦"
            ],
            "text/latex": "$\\displaystyle \\left[\\begin{matrix}\\frac{r^{3} \\cos{\\left(\\theta \\right)}}{\\sqrt{r^{2} + z^{2}}}\\\\\\frac{r^{3} \\sqrt{r^{2} + z^{2}} \\sin{\\left(\\theta \\right)}}{4}\\\\\\frac{r^{2} z}{\\sqrt{r^{2} + z^{2}}}\\end{matrix}\\right]$"
          },
          "metadata": {},
          "execution_count": 418
        }
      ]
    },
    {
      "cell_type": "code",
      "source": [
        "G_esf"
      ],
      "metadata": {
        "colab": {
          "base_uri": "https://localhost:8080/",
          "height": 99
        },
        "id": "i5AcBFzOVUwV",
        "outputId": "1af92a2b-0ec3-4564-c3ed-ae792d351703"
      },
      "execution_count": 419,
      "outputs": [
        {
          "output_type": "execute_result",
          "data": {
            "text/plain": [
              "⎡     3    3              ⎤\n",
              "⎢    r ⋅sin (φ)⋅cos(θ)    ⎥\n",
              "⎢    ─────────────────    ⎥\n",
              "⎢            ____         ⎥\n",
              "⎢           ╱  2          ⎥\n",
              "⎢         ╲╱  r           ⎥\n",
              "⎢                         ⎥\n",
              "⎢      ____               ⎥\n",
              "⎢ 3   ╱  2     3          ⎥\n",
              "⎢r ⋅╲╱  r  ⋅sin (φ)⋅sin(θ)⎥\n",
              "⎢─────────────────────────⎥\n",
              "⎢            4            ⎥\n",
              "⎢                         ⎥\n",
              "⎢     3    2              ⎥\n",
              "⎢    r ⋅sin (φ)⋅cos(φ)    ⎥\n",
              "⎢    ─────────────────    ⎥\n",
              "⎢            ____         ⎥\n",
              "⎢           ╱  2          ⎥\n",
              "⎣         ╲╱  r           ⎦"
            ],
            "text/latex": "$\\displaystyle \\left[\\begin{matrix}\\frac{r^{3} \\sin^{3}{\\left(\\phi \\right)} \\cos{\\left(\\theta \\right)}}{\\sqrt{r^{2}}}\\\\\\frac{r^{3} \\sqrt{r^{2}} \\sin^{3}{\\left(\\phi \\right)} \\sin{\\left(\\theta \\right)}}{4}\\\\\\frac{r^{3} \\sin^{2}{\\left(\\phi \\right)} \\cos{\\left(\\phi \\right)}}{\\sqrt{r^{2}}}\\end{matrix}\\right]$"
          },
          "metadata": {},
          "execution_count": 419
        }
      ]
    },
    {
      "cell_type": "code",
      "source": [
        "#Problema 2.6\n",
        "#a)\n",
        "import sympy as sp\n",
        "\n",
        "rho, phi, theta = sp.symbols('rho phi theta')\n",
        "A_rho = rho*(z**2 + 1)\n",
        "A_phi = -rho*z*sp.cos(phi)\n",
        "\n",
        "A_x = A_rho*sp.sin(theta)*sp.cos(phi) - A_phi*sp.sin(phi)\n",
        "A_y = A_rho*sp.sin(theta)*sp.sin(phi) + A_phi*sp.cos(phi)\n",
        "A_z = A_rho*sp.cos(theta)\n",
        "\n",
        "A_cart = sp.Matrix([A_x, A_y, A_z])\n",
        "display(sp.Matrix([A_cart]))\n",
        "\n"
      ],
      "metadata": {
        "colab": {
          "base_uri": "https://localhost:8080/",
          "height": 78
        },
        "id": "U014PlnIVlU1",
        "outputId": "9bce2b16-dc74-437a-bcc4-33b9aad8fd40"
      },
      "execution_count": 420,
      "outputs": [
        {
          "output_type": "display_data",
          "data": {
            "text/plain": [
              "⎡                      ⎛ 2    ⎞              ⎤\n",
              "⎢ρ⋅z⋅sin(φ)⋅cos(φ) + ρ⋅⎝z  + 1⎠⋅sin(θ)⋅cos(φ)⎥\n",
              "⎢                                            ⎥\n",
              "⎢           2        ⎛ 2    ⎞                ⎥\n",
              "⎢  - ρ⋅z⋅cos (φ) + ρ⋅⎝z  + 1⎠⋅sin(φ)⋅sin(θ)  ⎥\n",
              "⎢                                            ⎥\n",
              "⎢               ⎛ 2    ⎞                     ⎥\n",
              "⎣             ρ⋅⎝z  + 1⎠⋅cos(θ)              ⎦"
            ],
            "text/latex": "$\\displaystyle \\left[\\begin{matrix}\\rho z \\sin{\\left(\\phi \\right)} \\cos{\\left(\\phi \\right)} + \\rho \\left(z^{2} + 1\\right) \\sin{\\left(\\theta \\right)} \\cos{\\left(\\phi \\right)}\\\\- \\rho z \\cos^{2}{\\left(\\phi \\right)} + \\rho \\left(z^{2} + 1\\right) \\sin{\\left(\\phi \\right)} \\sin{\\left(\\theta \\right)}\\\\\\rho \\left(z^{2} + 1\\right) \\cos{\\left(\\theta \\right)}\\end{matrix}\\right]$"
          },
          "metadata": {}
        }
      ]
    },
    {
      "cell_type": "code",
      "source": [
        "#b) \n",
        "import sympy as sp\n",
        "\n",
        "r, theta, phi = sp.symbols('r theta phi')\n",
        "x, y, z = sp.symbols('x y z')\n",
        "B_r = 2*sp.sin(theta)*sp.cos(phi)\n",
        "B_theta = r*sp.cos(theta)*sp.cos(theta)\n",
        "B_phi = -r*sp.sin(phi)\n",
        "\n",
        "A_x = B_r*sp.sin(theta)*sp.cos(phi) - A_phi*sp.sin(phi)\n",
        "A_y = B_r*sp.sin(theta)*sp.sin(phi) + A_phi*sp.cos(phi)\n",
        "A_z = B_r*sp.cos(theta)\n",
        "\n",
        "B_cart = sp.Matrix([A_x, A_y, A_z])\n",
        "display(sp.Matrix([B_cart]))\n",
        "\n",
        "\n"
      ],
      "metadata": {
        "colab": {
          "base_uri": "https://localhost:8080/",
          "height": 79
        },
        "id": "BiBfcdGIWwBv",
        "outputId": "2ec22191-255b-4847-a2bc-edb5dbba2d57"
      },
      "execution_count": 421,
      "outputs": [
        {
          "output_type": "display_data",
          "data": {
            "text/plain": [
              "⎡                          2       2    ⎤\n",
              "⎢ ρ⋅z⋅sin(φ)⋅cos(φ) + 2⋅sin (θ)⋅cos (φ) ⎥\n",
              "⎢                                       ⎥\n",
              "⎢         2                  2          ⎥\n",
              "⎢- ρ⋅z⋅cos (φ) + 2⋅sin(φ)⋅sin (θ)⋅cos(φ)⎥\n",
              "⎢                                       ⎥\n",
              "⎣        2⋅sin(θ)⋅cos(φ)⋅cos(θ)         ⎦"
            ],
            "text/latex": "$\\displaystyle \\left[\\begin{matrix}\\rho z \\sin{\\left(\\phi \\right)} \\cos{\\left(\\phi \\right)} + 2 \\sin^{2}{\\left(\\theta \\right)} \\cos^{2}{\\left(\\phi \\right)}\\\\- \\rho z \\cos^{2}{\\left(\\phi \\right)} + 2 \\sin{\\left(\\phi \\right)} \\sin^{2}{\\left(\\theta \\right)} \\cos{\\left(\\phi \\right)}\\\\2 \\sin{\\left(\\theta \\right)} \\cos{\\left(\\phi \\right)} \\cos{\\left(\\theta \\right)}\\end{matrix}\\right]$"
          },
          "metadata": {}
        }
      ]
    },
    {
      "cell_type": "code",
      "source": [
        "#Probema 2.7\n",
        "#a)\n",
        "from sympy import symbols, cos, sin, Matrix, simplify\n",
        "\n",
        "rho, phi, theta, z = symbols('rho phi theta z')\n",
        "\n",
        "C = z*sin(phi)*Matrix([cos(theta), sin(theta), 0]) - rho*cos(phi)*Matrix([-sin(theta), cos(theta), 0]) + 2*rho*z*Matrix([0, 0, 1])\n",
        "\n",
        "x = rho*sin(phi)*cos(theta)\n",
        "y = rho*sin(phi)*sin(theta)\n",
        "z = rho*cos(phi)\n",
        "\n",
        "C_cartesiano = C.subs([(rho, sqrt(x**2 + y**2)), (phi, atan2(y, x)), (theta, 0)])\n",
        "simplify(C_cartesiano)"
      ],
      "metadata": {
        "colab": {
          "base_uri": "https://localhost:8080/",
          "height": 78
        },
        "id": "yTMJzPvDYyVf",
        "outputId": "75a3706e-4798-48ab-e431-22fe928d7f4a"
      },
      "execution_count": 422,
      "outputs": [
        {
          "output_type": "execute_result",
          "data": {
            "text/plain": [
              "⎡0⎤\n",
              "⎢ ⎥\n",
              "⎢0⎥\n",
              "⎢ ⎥\n",
              "⎣0⎦"
            ],
            "text/latex": "$\\displaystyle \\left[\\begin{matrix}0\\\\0\\\\0\\end{matrix}\\right]$"
          },
          "metadata": {},
          "execution_count": 422
        }
      ]
    },
    {
      "cell_type": "code",
      "source": [
        "#b)"
      ],
      "metadata": {
        "id": "80vQZPe9atzg"
      },
      "execution_count": 423,
      "outputs": []
    },
    {
      "cell_type": "code",
      "source": [
        "#Problema 2.9\n",
        "#a) \n",
        "import sympy as sp\n",
        "\n",
        "r, theta, phi = sp.symbols('r theta phi')\n",
        "\n",
        "x_cil = r*sp.sin(theta)\n",
        "y_cil = r*sp.cos(theta)\n",
        "z_cil = phi\n",
        "\n",
        "p = sp.sqrt(x_cil**2 + y_cil**2)\n",
        "theta_esf = sp.atan2(x_cil, y_cil)\n",
        "phi_esf = z_cil\n",
        "\n",
        "x_esf = p*sp.sin(theta_esf)*sp.cos(phi_esf)\n",
        "y_esf = p*sp.sin(theta_esf)*sp.sin(phi_esf)\n",
        "z_esf = p*sp.cos(theta_esf)\n",
        "\n",
        "C_esf = sp.Matrix([x_esf, y_esf, z_esf])\n",
        "display(sp.Matrix([C_esf]))\n"
      ],
      "metadata": {
        "colab": {
          "base_uri": "https://localhost:8080/",
          "height": 78
        },
        "id": "39pZ_InvdToQ",
        "outputId": "a9ada0a4-8f45-4e7f-e94f-151e8328724d"
      },
      "execution_count": 424,
      "outputs": [
        {
          "output_type": "display_data",
          "data": {
            "text/plain": [
              "⎡r⋅sin(θ)⋅cos(φ)⎤\n",
              "⎢               ⎥\n",
              "⎢r⋅sin(φ)⋅sin(θ)⎥\n",
              "⎢               ⎥\n",
              "⎣   r⋅cos(θ)    ⎦"
            ],
            "text/latex": "$\\displaystyle \\left[\\begin{matrix}r \\sin{\\left(\\theta \\right)} \\cos{\\left(\\phi \\right)}\\\\r \\sin{\\left(\\phi \\right)} \\sin{\\left(\\theta \\right)}\\\\r \\cos{\\left(\\theta \\right)}\\end{matrix}\\right]$"
          },
          "metadata": {}
        }
      ]
    },
    {
      "cell_type": "code",
      "source": [
        "#Problema 2.10\n",
        "#a)\n",
        "import sympy as sp\n",
        "# Em coordenadas cilindricas\n",
        "#x = ρ*cos(θ)\n",
        "#y = ρ*sin(θ)\n",
        "#z = z\n",
        "\n",
        "rho, theta, z = sp.symbols('rho theta z')\n",
        "\n",
        "H = sp.Matrix([rho*theta*z**2, rho**2*theta, rho*theta*z**2])\n",
        "\n",
        "H_cilindricas = H.subs({sp.symbols('x'): rho*sp.cos(theta), sp.symbols('y'): rho*sp.sin(theta)})\n",
        "\n",
        "H_cilindricas\n",
        "\n",
        "\n"
      ],
      "metadata": {
        "colab": {
          "base_uri": "https://localhost:8080/",
          "height": 78
        },
        "id": "uIJ_hz1Ye9kQ",
        "outputId": "7518fd04-1d20-443f-e159-0a328ed400f9"
      },
      "execution_count": 425,
      "outputs": [
        {
          "output_type": "execute_result",
          "data": {
            "text/plain": [
              "⎡     2⎤\n",
              "⎢ρ⋅θ⋅z ⎥\n",
              "⎢      ⎥\n",
              "⎢  2   ⎥\n",
              "⎢ ρ ⋅θ ⎥\n",
              "⎢      ⎥\n",
              "⎢     2⎥\n",
              "⎣ρ⋅θ⋅z ⎦"
            ],
            "text/latex": "$\\displaystyle \\left[\\begin{matrix}\\rho \\theta z^{2}\\\\\\rho^{2} \\theta\\\\\\rho \\theta z^{2}\\end{matrix}\\right]$"
          },
          "metadata": {},
          "execution_count": 425
        }
      ]
    },
    {
      "cell_type": "code",
      "source": [
        "#Em coordenadas esféricas\n",
        "#x = r*sin(phi)*cos(theta)\n",
        "#y = r*sin(phi)*sin(theta)\n",
        "#z = r*cos(phi)\n",
        "\n",
        "r, phi, theta = sp.symbols('r phi theta')\n",
        "\n",
        "H_esfericas = H.subs({\n",
        "    sp.symbols('x'): r*sp.sin(phi)*sp.cos(theta),\n",
        "    sp.symbols('y'): r*sp.sin(phi)*sp.sin(theta),\n",
        "    sp.symbols('z'): r*sp.cos(phi)\n",
        "})\n",
        "\n",
        "H_esfericas\n"
      ],
      "metadata": {
        "colab": {
          "base_uri": "https://localhost:8080/",
          "height": 78
        },
        "id": "8X6Gg8gjgYTZ",
        "outputId": "ced98e89-9bbb-450e-92d1-343033e8cdf2"
      },
      "execution_count": 426,
      "outputs": [
        {
          "output_type": "execute_result",
          "data": {
            "text/plain": [
              "⎡ 2        2   ⎤\n",
              "⎢r ⋅ρ⋅θ⋅cos (φ)⎥\n",
              "⎢              ⎥\n",
              "⎢      2       ⎥\n",
              "⎢     ρ ⋅θ     ⎥\n",
              "⎢              ⎥\n",
              "⎢ 2        2   ⎥\n",
              "⎣r ⋅ρ⋅θ⋅cos (φ)⎦"
            ],
            "text/latex": "$\\displaystyle \\left[\\begin{matrix}r^{2} \\rho \\theta \\cos^{2}{\\left(\\phi \\right)}\\\\\\rho^{2} \\theta\\\\r^{2} \\rho \\theta \\cos^{2}{\\left(\\phi \\right)}\\end{matrix}\\right]$"
          },
          "metadata": {},
          "execution_count": 426
        }
      ]
    },
    {
      "cell_type": "code",
      "source": [
        "#b)\n",
        "import sympy as sp\n",
        "\n",
        "rho, phi, z = sp.symbols('rho phi z')\n",
        "\n",
        "H_cil = sp.Matrix([rho*z**2*sp.cos(phi), rho*z**2*sp.sin(phi), rho**2])\n",
        "H_cil\n",
        "\n",
        "H_cil_subs = H_cil.subs({rho: sp.sqrt(3**2+(-4)**2), phi: sp.atan2(-4,3), z: 5})\n",
        "H_cil_subs"
      ],
      "metadata": {
        "colab": {
          "base_uri": "https://localhost:8080/",
          "height": 78
        },
        "id": "cJkmrOM6grmp",
        "outputId": "7daedd97-8353-416b-ff36-88b7f985a877"
      },
      "execution_count": 427,
      "outputs": [
        {
          "output_type": "execute_result",
          "data": {
            "text/plain": [
              "⎡ 75 ⎤\n",
              "⎢    ⎥\n",
              "⎢-100⎥\n",
              "⎢    ⎥\n",
              "⎣ 25 ⎦"
            ],
            "text/latex": "$\\displaystyle \\left[\\begin{matrix}75\\\\-100\\\\25\\end{matrix}\\right]$"
          },
          "metadata": {},
          "execution_count": 427
        }
      ]
    },
    {
      "cell_type": "code",
      "source": [
        "H_esf = sp.Matrix([sp.sin(phi)*sp.cos(phi)*sp.sqrt(rho)*z,\n",
        "                   sp.sin(phi)**2*rho*sp.sqrt(1-z**2/rho**2),\n",
        "                   sp.cos(phi)*sp.sqrt(rho)*z])\n",
        "H_esf\n",
        "H_esf_subs = H_esf.subs({rho: sp.sqrt(3**2+(-4)**2+5**2), phi: sp.atan2(-4,3), z: 5})\n",
        "H_esf_subs"
      ],
      "metadata": {
        "colab": {
          "base_uri": "https://localhost:8080/",
          "height": 83
        },
        "id": "OFQHHYr_hYPw",
        "outputId": "8ef64753-e99a-426d-c8a5-a745f320efd2"
      },
      "execution_count": 428,
      "outputs": [
        {
          "output_type": "execute_result",
          "data": {
            "text/plain": [
              "⎡    4 ___    ⎤\n",
              "⎢-12⋅╲╱ 2 ⋅√5 ⎥\n",
              "⎢─────────────⎥\n",
              "⎢      5      ⎥\n",
              "⎢             ⎥\n",
              "⎢    16/5     ⎥\n",
              "⎢             ⎥\n",
              "⎢   4 ___     ⎥\n",
              "⎣ 3⋅╲╱ 2 ⋅√5  ⎦"
            ],
            "text/latex": "$\\displaystyle \\left[\\begin{matrix}- \\frac{12 \\cdot \\sqrt[4]{2} \\sqrt{5}}{5}\\\\\\frac{16}{5}\\\\3 \\cdot \\sqrt[4]{2} \\sqrt{5}\\end{matrix}\\right]$"
          },
          "metadata": {},
          "execution_count": 428
        }
      ]
    },
    {
      "cell_type": "code",
      "source": [
        "#Problema 2.14\n",
        "#a)\n",
        "from sympy import sqrt\n",
        "\n",
        "p1 = (2, 1, 5)\n",
        "p2 = (6, -1, 2)\n",
        "\n",
        "d = sqrt((p2[0] - p1[0])**2 + (p2[1] - p1[1])**2 + (p2[2] - p1[2])**2)\n",
        "d\n",
        "\n"
      ],
      "metadata": {
        "colab": {
          "base_uri": "https://localhost:8080/",
          "height": 38
        },
        "id": "Gyoaiitihg7i",
        "outputId": "6f90430c-2b6a-4f47-8dab-699bad23d42a"
      },
      "execution_count": 429,
      "outputs": [
        {
          "output_type": "execute_result",
          "data": {
            "text/plain": [
              "√29"
            ],
            "text/latex": "$\\displaystyle \\sqrt{29}$"
          },
          "metadata": {},
          "execution_count": 429
        }
      ]
    },
    {
      "cell_type": "code",
      "source": [
        "#b\n",
        "from sympy import pi, sin, cos, sqrt\n",
        "\n",
        "p1 = (3, pi/2, -1)\n",
        "p2 = (5, 3*pi/2, 5)\n",
        "\n",
        "x1 = p1[0] * sin(p1[2]) * cos(p1[1])\n",
        "y1 = p1[0] * sin(p1[2]) * sin(p1[1])\n",
        "z1 = p1[0] * cos(p1[2])\n",
        "\n",
        "x2 = p2[0] * sin(p2[2]) * cos(p2[1])\n",
        "y2 = p2[0] * sin(p2[2]) * sin(p2[1])\n",
        "z2 = p2[0] * cos(p2[2])\n",
        "\n",
        "d = sqrt((x2 - x1)**2 + (y2 - y1)**2 + (z2 - z1)**2)\n",
        "d.evalf(3)\n"
      ],
      "metadata": {
        "colab": {
          "base_uri": "https://localhost:8080/",
          "height": 37
        },
        "id": "SkLLPnwbkw0a",
        "outputId": "8e4dd4a6-9f68-4576-9e8c-c38c5de90898"
      },
      "execution_count": 430,
      "outputs": [
        {
          "output_type": "execute_result",
          "data": {
            "text/plain": [
              "7.32"
            ],
            "text/latex": "$\\displaystyle 7.32$"
          },
          "metadata": {},
          "execution_count": 430
        }
      ]
    },
    {
      "cell_type": "code",
      "source": [
        "#c)\n",
        "import sympy as sp\n",
        "\n",
        "# criar os símbolos para as variáveis\n",
        "x1, y1, z1, x2, y2, z2 = sp.symbols('x1 y1 z1 x2 y2 z2')\n",
        "\n",
        "# coordenadas do primeiro ponto\n",
        "p1 = (10, sp.pi/4, 3*sp.pi/4)\n",
        "\n",
        "# coordenadas do segundo ponto\n",
        "p2 = (5, sp.pi/6, 7*sp.pi/4)\n",
        "\n",
        "# calcular a distância entre os pontos\n",
        "d = sp.sqrt((x2 - x1)**2 + (y2 - y1)**2 + (z2 - z1)**2).subs({x1:p1[0], y1:p1[1], z1:p1[2], x2:p2[0], y2:p2[1], z2:p2[2]})\n",
        "\n",
        "d.evalf(4)\n"
      ],
      "metadata": {
        "colab": {
          "base_uri": "https://localhost:8080/",
          "height": 37
        },
        "id": "p-aLIkcYlDMk",
        "outputId": "7a68ba75-0433-43d9-f080-db51e5408156"
      },
      "execution_count": 431,
      "outputs": [
        {
          "output_type": "execute_result",
          "data": {
            "text/plain": [
              "5.911"
            ],
            "text/latex": "$\\displaystyle 5.911$"
          },
          "metadata": {},
          "execution_count": 431
        }
      ]
    },
    {
      "cell_type": "code",
      "source": [
        "#a)\n",
        "import matplotlib.pyplot as plt\n",
        "import numpy as np\n",
        "\n",
        "x = np.linspace(-10, 10, 100)\n",
        "y1 = np.ones_like(x) * 2\n",
        "y2 = np.ones_like(x) * 5\n",
        "\n",
        "plt.plot()\n",
        "plt.plot(x, y1, label='x=2')\n",
        "plt.plot(x, y2, label='y=5')\n",
        "\n",
        "plt.plot([2], [5], 'ro', label='Interseção')\n",
        "plt.grid()\n",
        "plt.legend()\n",
        "plt.xlabel('X')\n",
        "plt.ylabel('Y')\n",
        "plt.title('Interseção das superfícies x=2 e y=5')\n",
        "\n",
        "\n",
        "\n"
      ],
      "metadata": {
        "colab": {
          "base_uri": "https://localhost:8080/",
          "height": 490
        },
        "id": "iPPiQHQHltdD",
        "outputId": "84b43fc4-f750-47d5-ddde-7ed33a05ce8c"
      },
      "execution_count": 432,
      "outputs": [
        {
          "output_type": "execute_result",
          "data": {
            "text/plain": [
              "Text(0.5, 1.0, 'Interseção das superfícies x=2 e y=5')"
            ]
          },
          "metadata": {},
          "execution_count": 432
        },
        {
          "output_type": "display_data",
          "data": {
            "text/plain": [
              "<Figure size 640x480 with 1 Axes>"
            ],
            "image/png": "[encoded data removed]"
          },
          "metadata": {}
        }
      ]
    },
    {
      "cell_type": "code",
      "source": [
        "#b)\n",
        "import sympy as sp\n",
        "\n",
        "x, y, z = sp.symbols('x y z')\n",
        "\n",
        "eq1 = x - 2\n",
        "eq2 = y + 1\n",
        "eq3 = z - 10\n",
        "\n",
        "sol = sp.solve([eq1, eq2, eq3], [x, y, z])\n",
        "sol\n"
      ],
      "metadata": {
        "colab": {
          "base_uri": "https://localhost:8080/",
          "height": 39
        },
        "id": "2HV8KDpinza0",
        "outputId": "9b00994d-9348-4f6b-8c09-2e6d4ccfe512"
      },
      "execution_count": 433,
      "outputs": [
        {
          "output_type": "execute_result",
          "data": {
            "text/plain": [
              "{x: 2, y: -1, z: 10}"
            ],
            "text/latex": "$\\displaystyle \\left\\{ x : 2, \\  y : -1, \\  z : 10\\right\\}$"
          },
          "metadata": {},
          "execution_count": 433
        }
      ]
    },
    {
      "cell_type": "code",
      "source": [
        "#c)\n",
        "import sympy\n",
        "\n",
        "# criar os símbolos para as variáveis\n",
        "x, y, z = sympy.symbols('x y z')\n",
        "\n",
        "# equações da esfera e do corte horizontal\n",
        "eq1 = x**2 + y**2 + z**2 - 100\n",
        "eq2 = y - x*sympy.tan(sympy.pi/6)\n",
        "\n",
        "\n"
      ],
      "metadata": {
        "id": "LUVHyR9PoaLo"
      },
      "execution_count": 434,
      "outputs": []
    },
    {
      "cell_type": "code",
      "source": [
        "eq1"
      ],
      "metadata": {
        "colab": {
          "base_uri": "https://localhost:8080/",
          "height": 39
        },
        "id": "QBQMlkaHpK0F",
        "outputId": "de2f1baa-d00c-48d3-e485-73e77ca79af2"
      },
      "execution_count": 435,
      "outputs": [
        {
          "output_type": "execute_result",
          "data": {
            "text/plain": [
              " 2    2    2      \n",
              "x  + y  + z  - 100"
            ],
            "text/latex": "$\\displaystyle x^{2} + y^{2} + z^{2} - 100$"
          },
          "metadata": {},
          "execution_count": 435
        }
      ]
    },
    {
      "cell_type": "code",
      "source": [
        "eq2"
      ],
      "metadata": {
        "colab": {
          "base_uri": "https://localhost:8080/",
          "height": 55
        },
        "id": "Zuy5gu6NpLxV",
        "outputId": "bbcc81da-956c-4783-f350-20ac7049ff1b"
      },
      "execution_count": 436,
      "outputs": [
        {
          "output_type": "execute_result",
          "data": {
            "text/plain": [
              "  √3⋅x    \n",
              "- ──── + y\n",
              "   3      "
            ],
            "text/latex": "$\\displaystyle - \\frac{\\sqrt{3} x}{3} + y$"
          },
          "metadata": {},
          "execution_count": 436
        }
      ]
    },
    {
      "cell_type": "code",
      "source": [
        "#Problema 2.18\n",
        "import sympy as sp\n",
        "\n",
        "x, y, z = sp.symbols('x y z')\n",
        "\n",
        "G = (x + y)**2 * sp.Matrix([1, 0, 0]) + x*z * sp.Matrix([0, 1, 0]) + (z**2 + z*y) * sp.Matrix([0, 0, 1])\n",
        "\n",
        "P = (8, sp.pi/6, 3*sp.pi/4)\n",
        "\n",
        "phi = P[2]\n",
        "a_phi = sp.Matrix([-sp.sin(phi), sp.cos(phi), 0])\n",
        "\n",
        "G_dot_a_phi = G.subs([(x, P[0]), (y, P[1]), (z, P[2])]).dot(a_phi)\n",
        "\n",
        "G_phi = G_dot_a_phi * a_phi\n",
        "G_phi"
      ],
      "metadata": {
        "colab": {
          "base_uri": "https://localhost:8080/",
          "height": 141
        },
        "id": "yiKfZYYapNR0",
        "outputId": "0e208732-6e71-4465-a670-c254e6f4f1f4"
      },
      "execution_count": 437,
      "outputs": [
        {
          "output_type": "execute_result",
          "data": {
            "text/plain": [
              "⎡    ⎛            2         ⎞ ⎤\n",
              "⎢    ⎜     ⎛π    ⎞          ⎟ ⎥\n",
              "⎢    ⎜  √2⋅⎜─ + 8⎟          ⎟ ⎥\n",
              "⎢    ⎜     ⎝6    ⎠          ⎟ ⎥\n",
              "⎢-√2⋅⎜- ─────────── - 3⋅√2⋅π⎟ ⎥\n",
              "⎢    ⎝       2              ⎠ ⎥\n",
              "⎢─────────────────────────────⎥\n",
              "⎢              2              ⎥\n",
              "⎢                             ⎥\n",
              "⎢    ⎛            2         ⎞ ⎥\n",
              "⎢    ⎜     ⎛π    ⎞          ⎟ ⎥\n",
              "⎢    ⎜  √2⋅⎜─ + 8⎟          ⎟ ⎥\n",
              "⎢    ⎜     ⎝6    ⎠          ⎟ ⎥\n",
              "⎢-√2⋅⎜- ─────────── - 3⋅√2⋅π⎟ ⎥\n",
              "⎢    ⎝       2              ⎠ ⎥\n",
              "⎢─────────────────────────────⎥\n",
              "⎢              2              ⎥\n",
              "⎢                             ⎥\n",
              "⎣              0              ⎦"
            ],
            "text/latex": "$\\displaystyle \\left[\\begin{matrix}- \\frac{\\sqrt{2} \\left(- \\frac{\\sqrt{2} \\left(\\frac{\\pi}{6} + 8\\right)^{2}}{2} - 3 \\sqrt{2} \\pi\\right)}{2}\\\\- \\frac{\\sqrt{2} \\left(- \\frac{\\sqrt{2} \\left(\\frac{\\pi}{6} + 8\\right)^{2}}{2} - 3 \\sqrt{2} \\pi\\right)}{2}\\\\0\\end{matrix}\\right]$"
          },
          "metadata": {},
          "execution_count": 437
        }
      ]
    },
    {
      "cell_type": "code",
      "source": [
        "#Problema 2.19\n",
        "#a)\n",
        "import sympy as sp\n",
        "\n",
        "r, theta, phi = sp.symbols('r theta phi')\n",
        "\n",
        "J = r * sp.sin(theta) * sp.cos(phi) * sp.Matrix([1, 0, 0]) - sp.cos(2*theta) * sp.sin(phi) * sp.Matrix([0, 1, 0]) + sp.tan(theta/2) * sp.ln(r) * sp.Matrix([0, 0, 1])\n",
        "\n",
        "T = (2, sp.pi/2, 3*sp.pi/2)\n",
        "\n",
        "a_z = sp.Matrix([0, 0, 1])\n",
        "\n",
        "prod_esc_J_az = J.subs([(r, T[0]), (theta, T[1]), (phi, T[2])]).dot(a_z)\n",
        "\n",
        "J_az = prod_esc_J_az * a_z\n",
        "J_az\n"
      ],
      "metadata": {
        "colab": {
          "base_uri": "https://localhost:8080/",
          "height": 78
        },
        "id": "7vPH1vbWuLqe",
        "outputId": "b2dd5ede-4edc-422d-8345-945f5c038d8a"
      },
      "execution_count": 438,
      "outputs": [
        {
          "output_type": "execute_result",
          "data": {
            "text/plain": [
              "⎡  0   ⎤\n",
              "⎢      ⎥\n",
              "⎢  0   ⎥\n",
              "⎢      ⎥\n",
              "⎣log(2)⎦"
            ],
            "text/latex": "$\\displaystyle \\left[\\begin{matrix}0\\\\0\\\\\\log{\\left(2 \\right)}\\end{matrix}\\right]$"
          },
          "metadata": {},
          "execution_count": 438
        }
      ]
    },
    {
      "cell_type": "code",
      "source": [
        "#b)\n",
        "import sympy as sp\n",
        "\n",
        "r, theta, phi = sp.symbols('r theta phi')\n",
        "ar = sp.Matrix([sp.sin(theta)*sp.cos(phi), sp.sin(theta)*sp.sin(phi), sp.cos(theta)])\n",
        "a_theta = sp.Matrix([sp.cos(theta)*sp.cos(phi), sp.cos(theta)*sp.sin(phi), -sp.sin(theta)])\n",
        "a_phi = sp.Matrix([-sp.sin(phi), sp.cos(phi), 0])\n",
        "\n",
        "J = r*sp.sin(theta)*sp.cos(phi)*ar - sp.cos(2*theta)*sp.sin(phi)*a_theta + sp.tan(theta/2)*sp.ln(r)*a_phi\n",
        "\n",
        "T = (2, sp.pi/2, 3*sp.pi/2)\n",
        "\n",
        "#este é o vetor unitário em aΦ \n",
        "a_phi_normal = sp.Matrix([-1, 0, 0])\n",
        "\n",
        "J_normal = J.subs([(r, T[0]), (theta, T[1]), (phi, T[2])]).dot(a_phi_normal)\n",
        "\n",
        "print(\"A componente vetorial de J que é normal à superfície Φ = 3π/2 é: {J_normal}\")\n",
        "\n"
      ],
      "metadata": {
        "colab": {
          "base_uri": "https://localhost:8080/"
        },
        "id": "vFXivTD1viQn",
        "outputId": "956ca267-2c99-4af9-ebf1-12b187a857b3"
      },
      "execution_count": 439,
      "outputs": [
        {
          "output_type": "stream",
          "name": "stdout",
          "text": [
            "A componente vetorial de J que é normal à superfície Φ = 3π/2 é: {J_normal}\n"
          ]
        }
      ]
    },
    {
      "cell_type": "code",
      "source": [
        "#c\n",
        "import sympy as sp\n",
        "\n",
        "r, theta, phi = sp.symbols('r theta phi')\n",
        "\n",
        "J = r*sp.sin(theta)*sp.cos(phi)*sp.Matrix([1, 0, 0]) - sp.cos(2*theta)*sp.sin(phi)*sp.Matrix([0, 1, 0]) + sp.tan(theta/2)*sp.ln(r)*sp.Matrix([0, 0, 1])\n",
        "\n",
        "T = (2, sp.pi/2, 3*sp.pi/2)\n",
        "\n",
        "normal = sp.Matrix([sp.sin(T[1])*sp.cos(T[2]), sp.sin(T[1])*sp.sin(T[2]), sp.cos(T[1])])\n",
        "\n",
        "tangente = J.subs([(r, T[0]), (theta, T[1]), (phi, T[2])]).cross(normal)\n",
        "\n",
        "componente_tangencial = J.subs(r, 2).project(tangente)\n",
        "\n",
        "print(\"A componente vetorial de J tangencial à superfície r=2 em T é {componente_tangencial}\")\n",
        "display(componente_tangencial)"
      ],
      "metadata": {
        "colab": {
          "base_uri": "https://localhost:8080/",
          "height": 96
        },
        "id": "y3XIQatHxH9x",
        "outputId": "c9d57106-9b58-411d-83cd-1aae88fdd0a0"
      },
      "execution_count": 440,
      "outputs": [
        {
          "output_type": "stream",
          "name": "stdout",
          "text": [
            "A componente vetorial de J tangencial à superfície r=2 em T é {componente_tangencial}\n"
          ]
        },
        {
          "output_type": "display_data",
          "data": {
            "text/plain": [
              "⎡2⋅sin(θ)⋅cos(φ)⎤\n",
              "⎢               ⎥\n",
              "⎢       0       ⎥\n",
              "⎢               ⎥\n",
              "⎣       0       ⎦"
            ],
            "text/latex": "$\\displaystyle \\left[\\begin{matrix}2 \\sin{\\left(\\theta \\right)} \\cos{\\left(\\phi \\right)}\\\\0\\\\0\\end{matrix}\\right]$"
          },
          "metadata": {}
        }
      ]
    },
    {
      "cell_type": "code",
      "source": [
        "#d\n",
        "import sympy as sp\n",
        "\n",
        "r, theta, phi = sp.symbols('r theta phi')\n",
        "\n",
        "J = r * sp.sin(theta) * sp.cos(phi) * sp.Matrix([1, 0, 0]) \\\n",
        "    - sp.cos(2*theta) * sp.sin(phi) * sp.Matrix([0, 1, 0]) \\\n",
        "    + sp.tan(theta/2) * sp.ln(r) * sp.Matrix([0, 0, 1])\n",
        "\n",
        "T = (2, sp.pi/2, 3*sp.pi/2)\n",
        "\n",
        "u = sp.Matrix([0, -2/sp.sqrt(5), 1/sp.sqrt(5)])\n",
        "\n",
        "# em projecao de J em u\n",
        "J_proj_u = J.subs([(r, T[0]), (theta, T[1]), (phi, T[2])]).dot(u)\n",
        "\n",
        "#componente vetorial\n",
        "J_u = J_proj_u * u\n",
        "\n",
        "display(J_u)"
      ],
      "metadata": {
        "colab": {
          "base_uri": "https://localhost:8080/",
          "height": 101
        },
        "id": "4qaqS9JLxswq",
        "outputId": "22332a97-7d21-4dc0-bca7-671706296b21"
      },
      "execution_count": 441,
      "outputs": [
        {
          "output_type": "display_data",
          "data": {
            "text/plain": [
              "⎡            0            ⎤\n",
              "⎢                         ⎥\n",
              "⎢      ⎛√5⋅log(2)   2⋅√5⎞ ⎥\n",
              "⎢-2⋅√5⋅⎜───────── + ────⎟ ⎥\n",
              "⎢      ⎝    5        5  ⎠ ⎥\n",
              "⎢─────────────────────────⎥\n",
              "⎢            5            ⎥\n",
              "⎢                         ⎥\n",
              "⎢     ⎛√5⋅log(2)   2⋅√5⎞  ⎥\n",
              "⎢  √5⋅⎜───────── + ────⎟  ⎥\n",
              "⎢     ⎝    5        5  ⎠  ⎥\n",
              "⎢  ─────────────────────  ⎥\n",
              "⎣            5            ⎦"
            ],
            "text/latex": "$\\displaystyle \\left[\\begin{matrix}0\\\\- \\frac{2 \\sqrt{5} \\left(\\frac{\\sqrt{5} \\log{\\left(2 \\right)}}{5} + \\frac{2 \\sqrt{5}}{5}\\right)}{5}\\\\\\frac{\\sqrt{5} \\left(\\frac{\\sqrt{5} \\log{\\left(2 \\right)}}{5} + \\frac{2 \\sqrt{5}}{5}\\right)}{5}\\end{matrix}\\right]$"
          },
          "metadata": {}
        }
      ]
    },
    {
      "cell_type": "code",
      "source": [
        "#Problema 2.20\n",
        "#a)\n",
        "import sympy as sp\n",
        "from sympy import sin, cos, pi, ln, atan, sqrt\n",
        "\n",
        "rho, phi, z = sp.symbols('rho phi z')\n",
        "\n",
        "H = sp.Matrix([5*rho*sin(phi), -rho*z*cos(phi), 2*rho])\n",
        "\n",
        "H_P = H.subs([(rho, 2), (phi, 30*pi/180), (z, -1)])\n",
        "\n",
        "norma_H_P = sqrt(H_P.dot(H_P))\n",
        "\n",
        "#vetor unitário no ponto\n",
        "u_H_P = H_P / norma_H_P\n",
        "\n",
        "u_H_P_cart = u_H_P.subs([(rho, 2), (phi, 30*pi/180), (z, -1)])\n",
        "\n",
        "print('Vetor unitário de H em P(2, 30°, -1) em coordenadas cartesianas: ')\n",
        "u_H_P_cart\n"
      ],
      "metadata": {
        "colab": {
          "base_uri": "https://localhost:8080/",
          "height": 106
        },
        "id": "uTDk49M-CF2a",
        "outputId": "fd530b82-4570-4f82-8a09-83170bbaf717"
      },
      "execution_count": 442,
      "outputs": [
        {
          "output_type": "stream",
          "name": "stdout",
          "text": [
            "Vetor unitário de H em P(2, 30°, -1) em coordenadas cartesianas: \n"
          ]
        },
        {
          "output_type": "execute_result",
          "data": {
            "text/plain": [
              "⎡5⋅√11⎤\n",
              "⎢─────⎥\n",
              "⎢  22 ⎥\n",
              "⎢     ⎥\n",
              "⎢ √33 ⎥\n",
              "⎢ ─── ⎥\n",
              "⎢  22 ⎥\n",
              "⎢     ⎥\n",
              "⎢2⋅√11⎥\n",
              "⎢─────⎥\n",
              "⎣  11 ⎦"
            ],
            "text/latex": "$\\displaystyle \\left[\\begin{matrix}\\frac{5 \\sqrt{11}}{22}\\\\\\frac{\\sqrt{33}}{22}\\\\\\frac{2 \\sqrt{11}}{11}\\end{matrix}\\right]$"
          },
          "metadata": {},
          "execution_count": 442
        }
      ]
    },
    {
      "cell_type": "code",
      "source": [
        "#b)\n",
        "import sympy as sp\n",
        "\n",
        "rho, phi, z = sp.symbols('rho phi z')\n",
        "\n",
        "H_rho = 5*rho*sp.sin(phi)\n",
        "H_phi = -rho*z*sp.cos(phi)\n",
        "H_z = 2*rho\n",
        "H_esf = H_rho*sp.sin(phi)*sp.cos(phi)*sp.cos(z) + H_phi*sp.sin(phi)*sp.sin(z) + H_z*sp.cos(phi)\n",
        "\n",
        "P_rho = 2\n",
        "P_phi = sp.pi/6\n",
        "P_z = -1\n",
        "\n",
        "H_cart = sp.Matrix([H_esf*sp.sin(P_phi)*sp.cos(P_z), H_esf*sp.sin(P_phi)*sp.sin(P_z), H_esf*sp.cos(P_phi)])\n",
        "\n",
        "ax_unit = sp.Matrix([1, 0, 0])\n",
        "\n",
        "# essa é a componente paralela a ax\n",
        "H_ax = (H_cart.dot(ax_unit)).simplify()\n",
        "print(\"A componente vetorial de H paralela a ax no ponto P é:\")\n",
        "H_ax.evalf(3)"
      ],
      "metadata": {
        "colab": {
          "base_uri": "https://localhost:8080/",
          "height": 57
        },
        "id": "kSfA01jYDijA",
        "outputId": "1ad71c75-7118-4196-c45e-ccc945272df0"
      },
      "execution_count": 443,
      "outputs": [
        {
          "output_type": "stream",
          "name": "stdout",
          "text": [
            "A componente vetorial de H paralela a ax no ponto P é:\n"
          ]
        },
        {
          "output_type": "execute_result",
          "data": {
            "text/plain": [
              "       ⎛                          2                ⎞       \n",
              "0.27⋅ρ⋅⎝-z⋅sin(φ)⋅sin(z) + 5.0⋅sin (φ)⋅cos(z) + 2.0⎠⋅cos(φ)"
            ],
            "text/latex": "$\\displaystyle 0.27 \\rho \\left(- z \\sin{\\left(\\phi \\right)} \\sin{\\left(z \\right)} + 5.0 \\sin^{2}{\\left(\\phi \\right)} \\cos{\\left(z \\right)} + 2.0\\right) \\cos{\\left(\\phi \\right)}$"
          },
          "metadata": {},
          "execution_count": 443
        }
      ]
    },
    {
      "cell_type": "code",
      "source": [
        "#c\n",
        "import sympy as sp\n",
        "\n",
        "rho, phi, z = sp.symbols('rho phi z')\n",
        "\n",
        "H = sp.Matrix([5*rho*sp.sin(phi), -rho*z*sp.cos(phi), 2*rho])\n",
        "\n",
        "P = sp.Matrix([2, sp.pi/6, -1])\n",
        "\n",
        "n = sp.Matrix([sp.diff(2*rho, rho), sp.diff(2*rho, phi)/rho, sp.diff(2*rho, z)])\n",
        "n = n.subs({rho: 2, phi: P[1], z: P[2]})\n",
        "n = n.normalized()\n",
        "\n",
        "H_normal = H.dot(n)\n",
        "\n",
        "print(\"A componente vetorial de H normal à superfície rho=2 em P(2, pi/6, -1) é:\")\n",
        "H_normal.evalf()\n",
        "\n"
      ],
      "metadata": {
        "colab": {
          "base_uri": "https://localhost:8080/",
          "height": 57
        },
        "id": "_Er3dUXlEn38",
        "outputId": "51669a3e-cb55-4993-a885-0f26c29ae6e3"
      },
      "execution_count": 444,
      "outputs": [
        {
          "output_type": "stream",
          "name": "stdout",
          "text": [
            "A componente vetorial de H normal à superfície rho=2 em P(2, pi/6, -1) é:\n"
          ]
        },
        {
          "output_type": "execute_result",
          "data": {
            "text/plain": [
              "5.0⋅ρ⋅sin(φ)"
            ],
            "text/latex": "$\\displaystyle 5.0 \\rho \\sin{\\left(\\phi \\right)}$"
          },
          "metadata": {},
          "execution_count": 444
        }
      ]
    },
    {
      "cell_type": "code",
      "source": [
        "#d)\n",
        "from sympy import symbols, sin, cos, pi\n",
        "\n",
        "rho, phi, z = symbols('rho phi z')\n",
        "\n",
        "H = 5*rho*sin(phi) - rho*z*cos(phi) + 2*rho\n",
        "\n",
        "H = H.subs(rho, 2)\n",
        "H = H.subs(phi, 30*(pi/180))\n",
        "H = H.subs(z, -1)\n",
        "\n",
        "H_tang_phi30 = H.diff(phi).subs(phi, 30*(pi/180))\n",
        "\n",
        "print('A componente de H tangente a phi = 30° em P(2, 30°, -1) é:')\n",
        "H_tang_phi30\n"
      ],
      "metadata": {
        "colab": {
          "base_uri": "https://localhost:8080/",
          "height": 56
        },
        "id": "j-iPTjpHIfDd",
        "outputId": "ddf10c64-4f5c-4328-e91c-18824d0e9c3c"
      },
      "execution_count": 445,
      "outputs": [
        {
          "output_type": "stream",
          "name": "stdout",
          "text": [
            "A componente de H tangente a phi = 30° em P(2, 30°, -1) é:\n"
          ]
        },
        {
          "output_type": "execute_result",
          "data": {
            "text/plain": [
              "0"
            ],
            "text/latex": "$\\displaystyle 0$"
          },
          "metadata": {},
          "execution_count": 445
        }
      ]
    },
    {
      "cell_type": "code",
      "source": [
        "#Problema 2.21\n",
        "#a)\n",
        "from sympy import symbols, sin, cos\n",
        "\n",
        "rho, phi, z, r, theta = symbols('rho phi z r theta')\n",
        "\n",
        "A = rho*(z**2 - 1) - rho*z*cos(phi) + rho**2*z**2\n",
        "\n",
        "B = r**2*cos(phi) + 2*r*sin(theta)\n",
        "\n",
        "A = A.subs(rho, 3)\n",
        "A = A.subs(phi, 4)\n",
        "A = A.subs(z, 1)\n",
        "\n",
        "B = B.subs(r, 5)\n",
        "B = B.subs(theta, pi/3)\n",
        "B = B.subs(phi, 4)\n",
        "\n",
        "print('O vetor A no ponto T(-3, 4, 1) é:', A.evalf(3))\n",
        "print('O vetor B no ponto T(-3, 4, 1) é:', B.evalf(3))\n"
      ],
      "metadata": {
        "colab": {
          "base_uri": "https://localhost:8080/"
        },
        "id": "ktze1-QxJRep",
        "outputId": "d16de56b-89ef-4aa6-e4c5-368981fbfd4f"
      },
      "execution_count": 446,
      "outputs": [
        {
          "output_type": "stream",
          "name": "stdout",
          "text": [
            "O vetor A no ponto T(-3, 4, 1) é: 11.0\n",
            "O vetor B no ponto T(-3, 4, 1) é: -7.68\n"
          ]
        }
      ]
    },
    {
      "cell_type": "code",
      "source": [
        "#Problema 2.23\n",
        "#x = ρ sin(θ) cos(φ)\n",
        "#y = ρ sin(θ) sin(φ)\n",
        "#z = ρ cos(θ)\n",
        "#ρ = sqrt(x^2 + y^2 + z^2)\n",
        "#φ = atan2(y, x)\n",
        "#θ = acos(z/ρ)\n",
        "\n",
        "import sympy as sp\n",
        "\n",
        "x, y, z, rho, phi, theta = sp.symbols('x y z rho phi theta')\n",
        "\n",
        "G = (x*sp.cos(phi)/rho)*sp.Symbol('ax') + (2*y*z/rho**2 + 1 - x**2/rho**2)*sp.Symbol('az')\n",
        "\n",
        "#substituição das coordenadas cartesianas pelas coordenadas esféricas \n",
        "\n",
        "G = G.subs(x, rho*sp.sin(theta)*sp.cos(phi))\n",
        "G = G.subs(y, rho*sp.sin(theta)*sp.sin(phi))\n",
        "G = G.subs(z, rho*sp.cos(theta))\n",
        "G = G.subs(rho, sp.sqrt(x**2 + y**2 + z**2))\n",
        "G = G.subs(phi, sp.atan2(y, x))\n",
        "G = G.subs(theta, sp.acos(z/rho))\n",
        "G\n",
        "\n",
        "#pode-se notar que temos ax, ay e az, e foram usados como símbolos para as componentes do campo vetorial em cartesiano e não tem relação com as componentes de um sistema esférico."
      ],
      "metadata": {
        "colab": {
          "base_uri": "https://localhost:8080/",
          "height": 81
        },
        "id": "ITjrGSiWK2d6",
        "outputId": "2b32e0d2-24d4-46cf-e3da-56d92e0d9b67"
      },
      "execution_count": 447,
      "outputs": [
        {
          "output_type": "execute_result",
          "data": {
            "text/plain": [
              "            ________      ⎛                                ________⎞\n",
              "           ╱      2       ⎜     ⎛     2⎞                  ╱      2 ⎟\n",
              "    2     ╱      z        ⎜   2 ⎜    z ⎟                 ╱      z  ⎟\n",
              "ax⋅x ⋅   ╱   1 - ──       ⎜  x ⋅⎜1 - ──⎟       2⋅y⋅z⋅   ╱   1 - ── ⎟\n",
              "        ╱         2       ⎜     ⎜     2⎟               ╱         2 ⎟\n",
              "      ╲╱         ρ        ⎜     ⎝    ρ ⎠             ╲╱         ρ  ⎟\n",
              "──────────────────── + az⋅⎜- ─────────── + 1 + ────────────────────⎟\n",
              "       2    2             ⎜     2    2                 _________   ⎟\n",
              "      x  + y              ⎜    x  + y                 ╱  2    2    ⎟\n",
              "                          ⎝                       ρ⋅╲╱  x  + y     ⎠"
            ],
            "text/latex": "$\\displaystyle \\frac{ax x^{2} \\sqrt{1 - \\frac{z^{2}}{\\rho^{2}}}}{x^{2} + y^{2}} + az \\left(- \\frac{x^{2} \\cdot \\left(1 - \\frac{z^{2}}{\\rho^{2}}\\right)}{x^{2} + y^{2}} + 1 + \\frac{2 y z \\sqrt{1 - \\frac{z^{2}}{\\rho^{2}}}}{\\rho \\sqrt{x^{2} + y^{2}}}\\right)$"
          },
          "metadata": {},
          "execution_count": 447
        }
      ]
    }
  ]
}